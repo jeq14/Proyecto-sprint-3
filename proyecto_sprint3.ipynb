{
 "cells": [
  {
   "cell_type": "markdown",
   "id": "9faca9f5",
   "metadata": {},
   "source": [
    "¡Hola Juan! Como te va?\n",
    "\n",
    "Mi nombre es Facundo Lozano! Un gusto conocerte, seré tu revisor en este proyecto.\n",
    "\n",
    "A continuación un poco sobre la modalidad de revisión que usaremos:\n",
    "\n",
    "Cuando enccuentro un error por primera vez, simplemente lo señalaré, te dejaré encontrarlo y arreglarlo tú cuenta. Además, a lo largo del texto iré haciendo algunas observaciones sobre mejora en tu código y también haré comentarios sobre tus percepciones sobre el tema. Pero si aún no puedes realizar esta tarea, te daré una pista más precisa en la próxima iteración y también algunos ejemplos prácticos. Estaré abierto a comentarios y discusiones sobre el tema.\n",
    "\n",
    "Encontrará mis comentarios a continuación: **no los mueva, modifique ni elimine**.\n",
    "\n",
    "Puedes encontrar mis comentarios en cuadros verdes, amarillos o rojos como este:\n",
    "\n",
    "<div class=\"alert alert-block alert-success\">\n",
    "<b>Comentario del revisor.</b> <a class=\"tocSkip\"></a>\n",
    "\n",
    "Exito. Todo se ha hecho de forma exitosa.\n",
    "</div>\n",
    "\n",
    "<div class=\"alert alert-block alert-warning\">\n",
    "<b>Comentario del revisor.</b> <a class=\"tocSkip\"></a>\n",
    "\n",
    "Observación. Algunas recomendaciones.\n",
    "</div>\n",
    "\n",
    "<div class=\"alert alert-block alert-danger\">\n",
    "\n",
    "<b>Comentario del revisor.</b> <a class=\"tocSkip\"></a>\n",
    "\n",
    "Necesita arreglos. Este apartado necesita algunas correcciones. El trabajo no puede ser aceptado con comentarios rojos. \n",
    "</div>\n",
    "\n",
    "Puedes responder utilizando esto:\n",
    "\n",
    "<div class=\"alert alert-block alert-info\">\n",
    "<b>Respuesta de estudiante.</b> <a class=\"tocSkip\"></a>\n",
    "</div>"
   ]
  },
  {
   "cell_type": "markdown",
   "id": "3Xg_RQfnafXz",
   "metadata": {
    "id": "3Xg_RQfnafXz"
   },
   "source": [
    "# ¡Llena ese carrito!"
   ]
  },
  {
   "cell_type": "markdown",
   "id": "cbdd08bd",
   "metadata": {},
   "source": [
    "<div class=\"alert alert-block alert-success\">\n",
    "<b>Review General. (Iteración 2) </b> <a class=\"tocSkip\"></a>\n",
    "\n",
    "Felicitaciones Juan, has implementado los cambios que te he indicado, bien hecho! Hemos alcanzado los objetivos del proyecto por lo que está en condiciones de ser aprobado!\n",
    "\n",
    "Felicitaciones y éxitos en tu camino dentro del mundo de los datos!\n",
    "\n",
    "Saludos!"
   ]
  },
  {
   "cell_type": "markdown",
   "id": "0afde262",
   "metadata": {},
   "source": [
    "<div class=\"alert alert-block alert-success\">\n",
    "<b>Review General. (Iteración 1) </b> <a class=\"tocSkip\"></a>\n",
    "\n",
    "Juan, quería tomarme este tiempo al inicio de tu proyecto para comentarte mis apreciaciones generales de esta iteración de tu entrega.\n",
    "\n",
    "Siempre me gusta comenzar dando la bienvenida al mundo de los datos a los estudiantes, te deseo lo mejor y espero que consigas lograr tus objetivos. Personalmente me gusta brindar el siguiente consejo, \"Está bien equivocarse, es normal y es lo mejor que te puede pasar. Aprendemos de los errores y eso te hará mejor programador ya que podrás descubrir cosas a medida que avances y son estas cosas las que te darán esa experiencia para ser un gran analista de datos.\"\n",
    "    \n",
    "Ahora si yendo a esta notebook. Juan quiero felicitarte porque has tenido un gran desempeño a lo largo del trabajo, has resuelto con creces todos los problemas planteados y te has destecado por tu manejo sobre las herramientas, muy bien hecho! Hemos tenido 2 detalles que deberíamos tratar de resolver y que estoy seguro que te tomará unos minutos, te he dejado los comentarios rojos con el contexto correspondiente para que puedas guiarte.\n",
    "\n",
    "En resumen un gran proyecto pero que debemos corregir unos detalles!\n",
    "\n",
    "Saludos y espero con ansias a nuestra próxima iteración Juan!"
   ]
  },
  {
   "cell_type": "markdown",
   "id": "mhIvmmkW414q",
   "metadata": {
    "id": "mhIvmmkW414q"
   },
   "source": [
    "# Introducción\n",
    "\n",
    "Instacart es una plataforma de entregas de comestibles donde la clientela puede registrar un pedido y hacer que se lo entreguen, similar a Uber Eats y Door Dash.\n",
    "El conjunto de datos que te hemos proporcionado tiene modificaciones del original. Redujimos el tamaño del conjunto para que tus cálculos se hicieran más rápido e introdujimos valores ausentes y duplicados. Tuvimos cuidado de conservar las distribuciones de los datos originales cuando hicimos los cambios.\n",
    "\n",
    "Debes completar tres pasos. Para cada uno de ellos, escribe una breve introducción que refleje con claridad cómo pretendes resolver cada paso, y escribe párrafos explicatorios que justifiquen tus decisiones al tiempo que avanzas en tu solución.  También escribe una conclusión que resuma tus hallazgos y elecciones.\n"
   ]
  },
  {
   "cell_type": "markdown",
   "id": "3MbyzpOQZ5Or",
   "metadata": {
    "id": "3MbyzpOQZ5Or"
   },
   "source": [
    "## Diccionario de datos\n",
    "\n",
    "Hay cinco tablas en el conjunto de datos, y tendrás que usarlas todas para hacer el preprocesamiento de datos y el análisis exploratorio de datos. A continuación se muestra un diccionario de datos que enumera las columnas de cada tabla y describe los datos que contienen.\n",
    "\n",
    "- `instacart_orders.csv`: cada fila corresponde a un pedido en la aplicación Instacart.\n",
    "    - `'order_id'`: número de ID que identifica de manera única cada pedido.\n",
    "    - `'user_id'`: número de ID que identifica de manera única la cuenta de cada cliente.\n",
    "    - `'order_number'`: el número de veces que este cliente ha hecho un pedido.\n",
    "    - `'order_dow'`: día de la semana en que se hizo el pedido (0 si es domingo).\n",
    "    - `'order_hour_of_day'`: hora del día en que se hizo el pedido.\n",
    "    - `'days_since_prior_order'`: número de días transcurridos desde que este cliente hizo su pedido anterior.\n",
    "- `products.csv`: cada fila corresponde a un producto único que pueden comprar los clientes.\n",
    "    - `'product_id'`: número ID que identifica de manera única cada producto.\n",
    "    - `'product_name'`: nombre del producto.\n",
    "    - `'aisle_id'`: número ID que identifica de manera única cada categoría de pasillo de víveres.\n",
    "    - `'department_id'`: número ID que identifica de manera única cada departamento de víveres.\n",
    "- `order_products.csv`: cada fila corresponde a un artículo pedido en un pedido.\n",
    "    - `'order_id'`: número de ID que identifica de manera única cada pedido.\n",
    "    - `'product_id'`: número ID que identifica de manera única cada producto.\n",
    "    - `'add_to_cart_order'`: el orden secuencial en el que se añadió cada artículo en el carrito.\n",
    "    - `'reordered'`: 0 si el cliente nunca ha pedido este producto antes, 1 si lo ha pedido.\n",
    "- `aisles.csv`\n",
    "    - `'aisle_id'`: número ID que identifica de manera única cada categoría de pasillo de víveres.\n",
    "    - `'aisle'`: nombre del pasillo.\n",
    "- `departments.csv`\n",
    "    - `'department_id'`: número ID que identifica de manera única cada departamento de víveres.\n",
    "    - `'department'`: nombre del departamento."
   ]
  },
  {
   "cell_type": "markdown",
   "id": "n3Ha_cNSZ8lK",
   "metadata": {
    "id": "n3Ha_cNSZ8lK"
   },
   "source": [
    "# Paso 1. Descripción de los datos\n",
    "\n",
    "Lee los archivos de datos (`/datasets/instacart_orders.csv`, `/datasets/products.csv`, `/datasets/aisles.csv`, `/datasets/departments.csv` y `/datasets/order_products.csv`) con `pd.read_csv()` usando los parámetros adecuados para leer los datos correctamente. Verifica la información para cada DataFrame creado.\n"
   ]
  },
  {
   "cell_type": "markdown",
   "id": "OmlQPLlyaAfR",
   "metadata": {
    "id": "OmlQPLlyaAfR"
   },
   "source": [
    "## Plan de solución\n",
    "\n",
    "Escribe aquí tu plan de solución para el Paso 1. Descripción de los datos.\n",
    "\n",
    "*Los valores de los dataframes tiene delimitacion de ';' en todos los archivos, se debe utilizar el parametro 'sep=' para corregir.*"
   ]
  },
  {
   "cell_type": "code",
   "execution_count": 1,
   "id": "fbf1adab",
   "metadata": {
    "id": "fbf1adab"
   },
   "outputs": [],
   "source": [
    "# importar librerías\n",
    "import pandas as pd\n",
    "from matplotlib import pyplot as plt"
   ]
  },
  {
   "cell_type": "code",
   "execution_count": 2,
   "id": "ad36396d",
   "metadata": {
    "id": "ad36396d"
   },
   "outputs": [],
   "source": [
    "# leer conjuntos de datos en los DataFrames\n",
    "\n",
    "df_orders= pd.read_csv('/datasets/instacart_orders.csv', sep=';')\n",
    "df_products= pd.read_csv('/datasets/products.csv', sep=';')\n",
    "df_aisles= pd.read_csv('/datasets/aisles.csv', sep=';')\n",
    "df_departments= pd.read_csv('/datasets/departments.csv', sep=';')\n",
    "df_order_products= pd.read_csv('/datasets/order_products.csv', sep=';')\n",
    "\n"
   ]
  },
  {
   "cell_type": "markdown",
   "id": "2120e542",
   "metadata": {},
   "source": [
    "<div class=\"alert alert-block alert-success\"><b>Comentario del revisor. (Iteración 1) </b> <a class=\"tocSkip\"></a>\n",
    "    \n",
    "Excelente! Buena decisión la de importar las librerías y cargar los datos por separado, a la vez exclente presentación de plan. Sigamos!"
   ]
  },
  {
   "cell_type": "code",
   "execution_count": 3,
   "id": "ad6a1efa",
   "metadata": {
    "id": "ad6a1efa"
   },
   "outputs": [
    {
     "name": "stdout",
     "output_type": "stream",
     "text": [
      "<class 'pandas.core.frame.DataFrame'>\n",
      "RangeIndex: 478967 entries, 0 to 478966\n",
      "Data columns (total 6 columns):\n",
      " #   Column                  Non-Null Count   Dtype  \n",
      "---  ------                  --------------   -----  \n",
      " 0   order_id                478967 non-null  int64  \n",
      " 1   user_id                 478967 non-null  int64  \n",
      " 2   order_number            478967 non-null  int64  \n",
      " 3   order_dow               478967 non-null  int64  \n",
      " 4   order_hour_of_day       478967 non-null  int64  \n",
      " 5   days_since_prior_order  450148 non-null  float64\n",
      "dtypes: float64(1), int64(5)\n",
      "memory usage: 21.9 MB\n"
     ]
    }
   ],
   "source": [
    "# mostrar información del DataFrame\n",
    "\n",
    "df_orders.info()"
   ]
  },
  {
   "cell_type": "code",
   "execution_count": 4,
   "id": "5130e05e",
   "metadata": {
    "id": "5130e05e"
   },
   "outputs": [
    {
     "name": "stdout",
     "output_type": "stream",
     "text": [
      "<class 'pandas.core.frame.DataFrame'>\n",
      "RangeIndex: 49694 entries, 0 to 49693\n",
      "Data columns (total 4 columns):\n",
      " #   Column         Non-Null Count  Dtype \n",
      "---  ------         --------------  ----- \n",
      " 0   product_id     49694 non-null  int64 \n",
      " 1   product_name   48436 non-null  object\n",
      " 2   aisle_id       49694 non-null  int64 \n",
      " 3   department_id  49694 non-null  int64 \n",
      "dtypes: int64(3), object(1)\n",
      "memory usage: 1.5+ MB\n"
     ]
    }
   ],
   "source": [
    "# mostrar información del DataFrame\n",
    "\n",
    "df_products.info()"
   ]
  },
  {
   "cell_type": "code",
   "execution_count": 5,
   "id": "d8370c05",
   "metadata": {
    "id": "d8370c05"
   },
   "outputs": [
    {
     "name": "stdout",
     "output_type": "stream",
     "text": [
      "<class 'pandas.core.frame.DataFrame'>\n",
      "RangeIndex: 134 entries, 0 to 133\n",
      "Data columns (total 2 columns):\n",
      " #   Column    Non-Null Count  Dtype \n",
      "---  ------    --------------  ----- \n",
      " 0   aisle_id  134 non-null    int64 \n",
      " 1   aisle     134 non-null    object\n",
      "dtypes: int64(1), object(1)\n",
      "memory usage: 2.2+ KB\n"
     ]
    }
   ],
   "source": [
    "# mostrar información del DataFrame\n",
    "\n",
    "df_aisles.info()"
   ]
  },
  {
   "cell_type": "code",
   "execution_count": 6,
   "id": "59e2090f",
   "metadata": {
    "id": "59e2090f"
   },
   "outputs": [
    {
     "name": "stdout",
     "output_type": "stream",
     "text": [
      "<class 'pandas.core.frame.DataFrame'>\n",
      "RangeIndex: 21 entries, 0 to 20\n",
      "Data columns (total 2 columns):\n",
      " #   Column         Non-Null Count  Dtype \n",
      "---  ------         --------------  ----- \n",
      " 0   department_id  21 non-null     int64 \n",
      " 1   department     21 non-null     object\n",
      "dtypes: int64(1), object(1)\n",
      "memory usage: 464.0+ bytes\n"
     ]
    }
   ],
   "source": [
    "# mostrar información del DataFrame\n",
    "\n",
    "df_departments.info()"
   ]
  },
  {
   "cell_type": "code",
   "execution_count": 7,
   "id": "6fc81694",
   "metadata": {
    "id": "6fc81694"
   },
   "outputs": [
    {
     "name": "stdout",
     "output_type": "stream",
     "text": [
      "<class 'pandas.core.frame.DataFrame'>\n",
      "RangeIndex: 4545007 entries, 0 to 4545006\n",
      "Data columns (total 4 columns):\n",
      " #   Column             Non-Null Count    Dtype  \n",
      "---  ------             --------------    -----  \n",
      " 0   order_id           4545007 non-null  int64  \n",
      " 1   product_id         4545007 non-null  int64  \n",
      " 2   add_to_cart_order  4544171 non-null  float64\n",
      " 3   reordered          4545007 non-null  int64  \n",
      "dtypes: float64(1), int64(3)\n",
      "memory usage: 138.7 MB\n"
     ]
    }
   ],
   "source": [
    "# mostrar información del DataFrame\n",
    "\n",
    "df_order_products.info(show_counts=True)"
   ]
  },
  {
   "cell_type": "markdown",
   "id": "c39f5e8a",
   "metadata": {},
   "source": [
    "<div class=\"alert alert-block alert-success\"><b>Comentario del revisor. (Iteración 1) </b> <a class=\"tocSkip\"></a>\n",
    "    \n",
    "Muy bien hecho! Excelente la visualización de los dataframes y la exploración de los datos mediante el método **.info()**. Sigamos!"
   ]
  },
  {
   "cell_type": "markdown",
   "id": "t75BD19oaR5f",
   "metadata": {
    "id": "t75BD19oaR5f"
   },
   "source": [
    "## Conclusiones\n",
    "\n",
    "Escribe aquí tus conclusiones intermedias sobre el Paso 1. Descripción de los datos.\n",
    "\n",
    "Se llego a solucionar el problema de los archivos luego de aplicar el parametro sep=';' en la lectura del archivo csv. Es muy importante esto ya que mejora y ordena las tablas."
   ]
  },
  {
   "cell_type": "markdown",
   "id": "8RJHqxVmaVsF",
   "metadata": {
    "id": "8RJHqxVmaVsF"
   },
   "source": [
    "# Paso 2. Preprocesamiento de los datos\n",
    "\n",
    "Preprocesa los datos de la siguiente manera:\n",
    "\n",
    "- Verifica y corrige los tipos de datos (por ejemplo, asegúrate de que las columnas de ID sean números enteros).\n",
    "- Identifica y completa los valores ausentes.\n",
    "- Identifica y elimina los valores duplicados.\n",
    "\n",
    "Asegúrate de explicar qué tipos de valores ausentes y duplicados encontraste, cómo los completaste o eliminaste y por qué usaste esos métodos. ¿Por qué crees que estos valores ausentes y duplicados pueden haber estado presentes en el conjunto de datos?"
   ]
  },
  {
   "cell_type": "markdown",
   "id": "p6poABZQaZYb",
   "metadata": {
    "id": "p6poABZQaZYb"
   },
   "source": [
    "## Plan de solución\n",
    "\n",
    "Escribe aquí tu plan para el Paso 2. Preprocesamiento de los datos.\n",
    "\n",
    "En este paso se verificara los valores duplicados de cada tabla, los valores ausnetes. Si hay productos con nombres en mayuscula se corregiras. Se hara un preprocesamiento de todas las tablas para luego analizarlas"
   ]
  },
  {
   "cell_type": "markdown",
   "id": "e3e204df",
   "metadata": {},
   "source": [
    "<div class=\"alert alert-block alert-success\"><b>Comentario del revisor. (Iteración 1) </b> <a class=\"tocSkip\"></a>\n",
    "    \n",
    "Excelente exposición del plan Juan!"
   ]
  },
  {
   "cell_type": "markdown",
   "id": "07357848-dc64-4156-9cc3-01ff4365226d",
   "metadata": {
    "id": "07357848-dc64-4156-9cc3-01ff4365226d"
   },
   "source": [
    "## Encuentra y elimina los valores duplicados (y describe cómo tomaste tus decisiones)."
   ]
  },
  {
   "cell_type": "markdown",
   "id": "f179f0a9",
   "metadata": {
    "id": "f179f0a9"
   },
   "source": [
    "### `orders` data frame"
   ]
  },
  {
   "cell_type": "code",
   "execution_count": 8,
   "id": "b99297a5-405a-463d-8535-9adc3da4ad74",
   "metadata": {
    "id": "b99297a5-405a-463d-8535-9adc3da4ad74"
   },
   "outputs": [
    {
     "name": "stdout",
     "output_type": "stream",
     "text": [
      "15\n"
     ]
    }
   ],
   "source": [
    "# Revisa si hay pedidos duplicados\n",
    "\n",
    "print(df_orders.duplicated().sum())"
   ]
  },
  {
   "cell_type": "markdown",
   "id": "PEkwUX_gvt5A",
   "metadata": {
    "id": "PEkwUX_gvt5A"
   },
   "source": [
    "¿Tienes líneas duplicadas? Si sí, ¿qué tienen en común?"
   ]
  },
  {
   "cell_type": "code",
   "execution_count": 9,
   "id": "0d44de5d",
   "metadata": {
    "id": "0d44de5d"
   },
   "outputs": [
    {
     "name": "stdout",
     "output_type": "stream",
     "text": [
      "        order_id  user_id  order_number  order_dow  order_hour_of_day  \\\n",
      "4838     2766110   162084            41          3                  2   \n",
      "5156     2190225   138285            18          3                  2   \n",
      "15506     553049    58599            13          3                  2   \n",
      "18420     382357   120200            19          3                  2   \n",
      "24691     690242    77357             2          3                  2   \n",
      "...          ...      ...           ...        ...                ...   \n",
      "457013   3384021    14881             6          3                  2   \n",
      "458816    910166   164782            18          3                  2   \n",
      "459635   1680532   106435             6          3                  2   \n",
      "468324    222962    54979            59          3                  2   \n",
      "477526   2592344    46860            38          3                  2   \n",
      "\n",
      "        days_since_prior_order  \n",
      "4838                      16.0  \n",
      "5156                      11.0  \n",
      "15506                      7.0  \n",
      "18420                     11.0  \n",
      "24691                      9.0  \n",
      "...                        ...  \n",
      "457013                    30.0  \n",
      "458816                     4.0  \n",
      "459635                    21.0  \n",
      "468324                     3.0  \n",
      "477526                     3.0  \n",
      "\n",
      "[121 rows x 6 columns]\n"
     ]
    }
   ],
   "source": [
    "# Basándote en tus hallazgos,\n",
    "# Verifica todos los pedidos que se hicieron el miércoles a las 2:00 a.m.\n",
    "wednesday_orders = df_orders[(df_orders['order_dow'] == 3) & (df_orders['order_hour_of_day'] == 2) ]   \n",
    "\n",
    "print(wednesday_orders)\n"
   ]
  },
  {
   "cell_type": "markdown",
   "id": "32200d19",
   "metadata": {},
   "source": [
    "<div class=\"alert alert-block alert-success\"><b>Comentario del revisor. (Iteración 1) </b> <a class=\"tocSkip\"></a>\n",
    "    \n",
    "    \n",
    "Muy bien! Buena forma para verificar la cantidad de duplicados. A la vez excelente forma de corroborar sobre los valores específicos de **order_dow**. Bien hecho, sigamos!"
   ]
  },
  {
   "cell_type": "markdown",
   "id": "vu2OWyoqwOx5",
   "metadata": {
    "id": "vu2OWyoqwOx5"
   },
   "source": [
    "¿Qué sugiere este resultado?\n",
    "\n",
    "Se logra comprobar que las ordenes duplicadas fueron el dia miercoles a las 2 am"
   ]
  },
  {
   "cell_type": "code",
   "execution_count": 10,
   "id": "480563c7",
   "metadata": {
    "id": "480563c7"
   },
   "outputs": [],
   "source": [
    "# Elimina los pedidos duplicados\n",
    "\n",
    "df_orders.drop_duplicates(inplace=True)"
   ]
  },
  {
   "cell_type": "code",
   "execution_count": 11,
   "id": "0b2396a2",
   "metadata": {
    "id": "0b2396a2"
   },
   "outputs": [
    {
     "name": "stdout",
     "output_type": "stream",
     "text": [
      "0\n"
     ]
    }
   ],
   "source": [
    "# Vuelve a verificar si hay filas duplicadas\n",
    "\n",
    "print(df_orders.duplicated().sum())"
   ]
  },
  {
   "cell_type": "code",
   "execution_count": 12,
   "id": "f6113ef1",
   "metadata": {
    "id": "f6113ef1"
   },
   "outputs": [
    {
     "name": "stdout",
     "output_type": "stream",
     "text": [
      "0\n"
     ]
    }
   ],
   "source": [
    "# Vuelve a verificar únicamente si hay IDs duplicados de pedidos\n",
    "print(df_orders['order_id'].duplicated().sum())"
   ]
  },
  {
   "cell_type": "markdown",
   "id": "5e8905ae",
   "metadata": {
    "id": "5e8905ae"
   },
   "source": [
    "Describe brevemente tus hallazgos y lo que hiciste con ellos\n",
    "\n",
    "Primero se utilizo el metodo duplicated() y luego sum() para ver la cantidad de ordenes duplicadas. Luego se utilizo el metodo drop_duplicates para borrar los duplicados"
   ]
  },
  {
   "cell_type": "markdown",
   "id": "e0becf26",
   "metadata": {},
   "source": [
    "<div class=\"alert alert-block alert-success\"><b>Comentario del revisor. (Iteración 1) </b> <a class=\"tocSkip\"></a>\n",
    "    \n",
    "Nuevamente bien hecho al eliminar los duplicados! Una buena práctica luego de eliminar valores duplicados es la de aplicar el método **reset_index()**, te invito a que en casos futuros puedas implementarlo. A la vez excelente corroboración de duplicados nuevamente."
   ]
  },
  {
   "cell_type": "markdown",
   "id": "45e6bc46",
   "metadata": {
    "id": "45e6bc46"
   },
   "source": [
    "### `products` data frame"
   ]
  },
  {
   "cell_type": "code",
   "execution_count": 13,
   "id": "5f526b5b-8175-46fa-a0fd-441767d50e64",
   "metadata": {
    "id": "5f526b5b-8175-46fa-a0fd-441767d50e64"
   },
   "outputs": [
    {
     "name": "stdout",
     "output_type": "stream",
     "text": [
      "0\n"
     ]
    }
   ],
   "source": [
    "# Verifica si hay filas totalmente duplicadas\n",
    "print(df_products.duplicated().sum())"
   ]
  },
  {
   "cell_type": "code",
   "execution_count": 14,
   "id": "88daa4f4",
   "metadata": {
    "id": "88daa4f4"
   },
   "outputs": [
    {
     "name": "stdout",
     "output_type": "stream",
     "text": [
      "49673\n"
     ]
    }
   ],
   "source": [
    "# Revisa únicamente si hay ID de departamentos duplicados\n",
    "print(df_products['department_id'].duplicated().sum())"
   ]
  },
  {
   "cell_type": "markdown",
   "id": "d01b7b15",
   "metadata": {},
   "source": [
    "<div class=\"alert alert-block alert-success\"><b>Comentario del revisor. (Iteración 1) </b> <a class=\"tocSkip\"></a>\n",
    "    \n",
    "Excelente nuevamente la corroboración de duplicados! Y luego bien corroborado sobre la feature especifica de **department_id."
   ]
  },
  {
   "cell_type": "code",
   "execution_count": 15,
   "id": "c773f0bf",
   "metadata": {
    "id": "c773f0bf"
   },
   "outputs": [
    {
     "data": {
      "text/plain": [
       "1361"
      ]
     },
     "execution_count": 15,
     "metadata": {},
     "output_type": "execute_result"
    }
   ],
   "source": [
    "# Revisa únicamente si hay nombres duplicados de productos (convierte los nombres a letras mayúsculas para compararlos mejor)\n",
    "\n",
    "df_products['product_name'] = df_products['product_name'].str.lower() \n",
    "\n",
    "df_products['product_name'].duplicated().sum()"
   ]
  },
  {
   "cell_type": "code",
   "execution_count": 16,
   "id": "01efd02e",
   "metadata": {
    "id": "01efd02e"
   },
   "outputs": [
    {
     "data": {
      "text/plain": [
       "104"
      ]
     },
     "execution_count": 16,
     "metadata": {},
     "output_type": "execute_result"
    }
   ],
   "source": [
    "# Revisa si hay nombres duplicados de productos no faltantes\n",
    "\n",
    "\n",
    "df_products [~df_products['product_name'].isna()]['product_name'].duplicated().sum()\n",
    "\n",
    " "
   ]
  },
  {
   "cell_type": "markdown",
   "id": "5b904750",
   "metadata": {},
   "source": [
    "<div class=\"alert alert-block alert-success\"><b>Comentario del revisor. (Iteración 1) </b> <a class=\"tocSkip\"></a>\n",
    "    \n",
    "Aquí nuevamente el proceso es correcto, hemos normalizado los nombres para luego corroborar los valores duplicados, bien hecho! Para mejorar el resultado podríamos indicar la cantidad de dichos valores duplicados estableciendo un **sum()** sobre el resultado."
   ]
  },
  {
   "cell_type": "markdown",
   "id": "9da8d293",
   "metadata": {
    "id": "9da8d293"
   },
   "source": [
    "Describe brevemente tus hallazgos y lo que hiciste con ellos.\n",
    "\n",
    "Primero se utiliza el metodo duplicated luego se cambia a minuscula para comprobar los duplicadors mejor. Despues para los productos nos faltantes se utiliza el metodo isna() pero dandole la contra con '~' para luego buscar los duplicados."
   ]
  },
  {
   "cell_type": "markdown",
   "id": "60f30db1",
   "metadata": {
    "id": "60f30db1"
   },
   "source": [
    "### `departments` data frame"
   ]
  },
  {
   "cell_type": "code",
   "execution_count": 17,
   "id": "fb410ad4-0fbf-4b80-bb09-23fdea79afe3",
   "metadata": {
    "id": "fb410ad4-0fbf-4b80-bb09-23fdea79afe3"
   },
   "outputs": [
    {
     "name": "stdout",
     "output_type": "stream",
     "text": [
      "0\n"
     ]
    }
   ],
   "source": [
    "# Revisa si hay filas totalmente duplicadas\n",
    "\n",
    "print(df_departments.duplicated().sum())"
   ]
  },
  {
   "cell_type": "code",
   "execution_count": 18,
   "id": "332b12bb",
   "metadata": {
    "id": "332b12bb"
   },
   "outputs": [
    {
     "name": "stdout",
     "output_type": "stream",
     "text": [
      "0\n"
     ]
    }
   ],
   "source": [
    "# Revisa únicamente si hay IDs duplicadas de productos\n",
    "\n",
    "print(df_departments['department_id'].duplicated().sum())"
   ]
  },
  {
   "cell_type": "markdown",
   "id": "bd30d78e",
   "metadata": {
    "id": "bd30d78e"
   },
   "source": [
    "Describe brevemente tus hallazgos y lo que hiciste con ellos.\n",
    "\n",
    "Con el metodo duplicated se encontro que en el df_departments no hay duplicados."
   ]
  },
  {
   "cell_type": "markdown",
   "id": "b6efb6d1",
   "metadata": {},
   "source": [
    "<div class=\"alert alert-block alert-success\"><b>Comentario del revisor. (Iteración 1) </b> <a class=\"tocSkip\"></a>\n",
    "    \n",
    "Muy bien, excelente Juan! Nuevamente buena forma para verificar la cantidad de duplicados. En este caso no tenemos por lo que podemos seguir adelante."
   ]
  },
  {
   "cell_type": "markdown",
   "id": "889349c1",
   "metadata": {
    "id": "889349c1"
   },
   "source": [
    "### `aisles` data frame"
   ]
  },
  {
   "cell_type": "code",
   "execution_count": 19,
   "id": "9da89fb9-4679-40f5-ad0d-c34df753a3f8",
   "metadata": {
    "id": "9da89fb9-4679-40f5-ad0d-c34df753a3f8"
   },
   "outputs": [
    {
     "name": "stdout",
     "output_type": "stream",
     "text": [
      "0\n"
     ]
    }
   ],
   "source": [
    "# Revisa si hay filas totalmente duplicadas\n",
    "print(df_aisles.duplicated().sum())"
   ]
  },
  {
   "cell_type": "code",
   "execution_count": 20,
   "id": "da7c2822",
   "metadata": {
    "id": "da7c2822"
   },
   "outputs": [
    {
     "name": "stdout",
     "output_type": "stream",
     "text": [
      "0\n"
     ]
    }
   ],
   "source": [
    "# Revisa únicamente si hay IDs duplicadas de productos\n",
    "\n",
    "print(df_aisles['aisle_id'].duplicated().sum())"
   ]
  },
  {
   "cell_type": "markdown",
   "id": "ac63826f",
   "metadata": {
    "id": "ac63826f"
   },
   "source": [
    "Describe brevemente tus hallazgos y lo que hiciste con ellos.\n",
    "\n",
    "\n",
    "Con el metodo duplicated se encontro que en el df_aisle no hay duplicados."
   ]
  },
  {
   "cell_type": "markdown",
   "id": "b93d8fea",
   "metadata": {},
   "source": [
    "<div class=\"alert alert-block alert-success\"><b>Comentario del revisor. (Iteración 1) </b> <a class=\"tocSkip\"></a>\n",
    "    \n",
    "Misma situación, bien hecho! "
   ]
  },
  {
   "cell_type": "markdown",
   "id": "274cd06a",
   "metadata": {
    "id": "274cd06a"
   },
   "source": [
    "### `order_products` data frame"
   ]
  },
  {
   "cell_type": "code",
   "execution_count": 21,
   "id": "52326689-84a8-4b8f-a881-7c68780f62c9",
   "metadata": {
    "id": "52326689-84a8-4b8f-a881-7c68780f62c9"
   },
   "outputs": [
    {
     "name": "stdout",
     "output_type": "stream",
     "text": [
      "0\n"
     ]
    }
   ],
   "source": [
    "# Revisa si hay filas totalmente duplicadas\n",
    "\n",
    "print(df_order_products.duplicated().sum())"
   ]
  },
  {
   "cell_type": "code",
   "execution_count": 22,
   "id": "7b861391",
   "metadata": {
    "id": "7b861391"
   },
   "outputs": [
    {
     "name": "stdout",
     "output_type": "stream",
     "text": [
      "0\n"
     ]
    }
   ],
   "source": [
    "# Vuelve a verificar si hay cualquier otro duplicado engañoso\n",
    "\n",
    "print(df_order_products[['order_id','product_id']].duplicated().sum())\n"
   ]
  },
  {
   "cell_type": "markdown",
   "id": "0b890492",
   "metadata": {
    "id": "0b890492"
   },
   "source": [
    "Describe brevemente tus hallazgos y lo que hiciste con ellos.\n",
    "\n",
    "Hay dos tecnicas para encontrar duplicados. La primera usando duplicated y la otra con value_counts. No se encontraros datos duplicados."
   ]
  },
  {
   "cell_type": "markdown",
   "id": "c55a8d7d",
   "metadata": {},
   "source": [
    "<div class=\"alert alert-block alert-warning\"><b>Comentario del revisor. (Iteración 1) </b> <a class=\"tocSkip\"></a>\n",
    "    \n",
    "Cuidado aquí Juan, cuando se nos solicita verificar duplicados engañosos nos referimos encontrar si existen duplicados que realmente nos aporten información pero que con un simple duplicated() no veríamos, trata de corroborar si hay duplicados por los subsets **order_id y product_id**"
   ]
  },
  {
   "cell_type": "markdown",
   "id": "60313024",
   "metadata": {},
   "source": [
    "<div class=\"alert alert-block alert-success\"><b>Comentario del revisor. (Iteración 2) </b> <a class=\"tocSkip\"></a>\n",
    "    \n",
    "Excelente Juan, ahora si bien implementado!"
   ]
  },
  {
   "cell_type": "markdown",
   "id": "1e46de76",
   "metadata": {
    "id": "1e46de76"
   },
   "source": [
    "## Encuentra y elimina los valores ausentes\n",
    "\n",
    "Al trabajar con valores duplicados, pudimos observar que también nos falta investigar valores ausentes:\n",
    "\n",
    "* La columna `'product_name'` de la tabla products.\n",
    "* La columna `'days_since_prior_order'` de la tabla orders.\n",
    "* La columna `'add_to_cart_order'` de la tabla order_productos."
   ]
  },
  {
   "cell_type": "markdown",
   "id": "c0aebd78",
   "metadata": {
    "id": "c0aebd78"
   },
   "source": [
    "### `products` data frame"
   ]
  },
  {
   "cell_type": "code",
   "execution_count": 23,
   "id": "fe4a8b0f",
   "metadata": {
    "id": "fe4a8b0f"
   },
   "outputs": [
    {
     "name": "stdout",
     "output_type": "stream",
     "text": [
      "1258\n"
     ]
    }
   ],
   "source": [
    "# Encuentra los valores ausentes en la columna 'product_name'\n",
    "\n",
    "print( df_products['product_name'].isna().sum()  )\n"
   ]
  },
  {
   "cell_type": "markdown",
   "id": "24b71484",
   "metadata": {},
   "source": [
    "<div class=\"alert alert-block alert-success\"><b>Comentario del revisor. (Iteración 1) </b> <a class=\"tocSkip\"></a>\n",
    "    \n",
    "Muy bien identificados los valores nulos sobre **products_name**. Felicitaciones, sigue así que lo estás haciendo perfecto!"
   ]
  },
  {
   "cell_type": "markdown",
   "id": "-A6x1AbJhjkp",
   "metadata": {
    "id": "-A6x1AbJhjkp"
   },
   "source": [
    "Describe brevemente cuáles son tus hallazgos.\n",
    "\n",
    "Se encontraron 1258 valores ausentes en la columna product_name"
   ]
  },
  {
   "cell_type": "code",
   "execution_count": 24,
   "id": "e96167bc",
   "metadata": {
    "id": "e96167bc"
   },
   "outputs": [
    {
     "name": "stdout",
     "output_type": "stream",
     "text": [
      "       product_id product_name  aisle_id  department_id\n",
      "37             38          NaN       100             21\n",
      "71             72          NaN       100             21\n",
      "109           110          NaN       100             21\n",
      "296           297          NaN       100             21\n",
      "416           417          NaN       100             21\n",
      "...           ...          ...       ...            ...\n",
      "49552       49553          NaN       100             21\n",
      "49574       49575          NaN       100             21\n",
      "49640       49641          NaN       100             21\n",
      "49663       49664          NaN       100             21\n",
      "49668       49669          NaN       100             21\n",
      "\n",
      "[1258 rows x 4 columns]\n"
     ]
    }
   ],
   "source": [
    "#  ¿Todos los nombres de productos ausentes están relacionados con el pasillo con ID 100?\n",
    "print(df_products[(df_products['product_name'].isna()) & (df_products['aisle_id'] == 100)])\n"
   ]
  },
  {
   "cell_type": "markdown",
   "id": "WRpIfXRphpSL",
   "metadata": {
    "id": "WRpIfXRphpSL"
   },
   "source": [
    "Describe brevemente cuáles son tus hallazgos.\n",
    "\n",
    "Se comprobo que los 1258 datos ausentes estan relacionados con aisle_id = 100"
   ]
  },
  {
   "cell_type": "code",
   "execution_count": 25,
   "id": "8fd0a541",
   "metadata": {
    "id": "8fd0a541"
   },
   "outputs": [
    {
     "name": "stdout",
     "output_type": "stream",
     "text": [
      "       product_id product_name  aisle_id  department_id\n",
      "37             38          NaN       100             21\n",
      "71             72          NaN       100             21\n",
      "109           110          NaN       100             21\n",
      "296           297          NaN       100             21\n",
      "416           417          NaN       100             21\n",
      "...           ...          ...       ...            ...\n",
      "49552       49553          NaN       100             21\n",
      "49574       49575          NaN       100             21\n",
      "49640       49641          NaN       100             21\n",
      "49663       49664          NaN       100             21\n",
      "49668       49669          NaN       100             21\n",
      "\n",
      "[1258 rows x 4 columns]\n"
     ]
    }
   ],
   "source": [
    "# ¿Todos los nombres de productos ausentes están relacionados con el departamento con ID 21?\n",
    "\n",
    "print(df_products[(df_products['product_name'].isna()) & (df_products['department_id'] == 21)])"
   ]
  },
  {
   "cell_type": "markdown",
   "id": "qDpdYn1Fht_I",
   "metadata": {
    "id": "qDpdYn1Fht_I"
   },
   "source": [
    "Describe brevemente cuáles son tus hallazgos.\n",
    "\n",
    "Se comprobo que los 1258 datos ausentes estan relacionados tambien con department_id = 21"
   ]
  },
  {
   "cell_type": "code",
   "execution_count": 26,
   "id": "325c3464",
   "metadata": {
    "id": "325c3464"
   },
   "outputs": [
    {
     "name": "stdout",
     "output_type": "stream",
     "text": [
      "    department_id department\n",
      "20             21    missing\n",
      "    aisle_id    aisle\n",
      "99       100  missing\n"
     ]
    }
   ],
   "source": [
    "# Usa las tablas department y aisle para revisar los datos del pasillo con ID 100 y el departamento con ID 21.\n",
    "\n",
    "print(df_departments[df_departments['department_id'] == 21])\n",
    "\n",
    "print(df_aisles[df_aisles['aisle_id'] == 100])"
   ]
  },
  {
   "cell_type": "markdown",
   "id": "3362592f",
   "metadata": {},
   "source": [
    "<div class=\"alert alert-block alert-success\"><b>Comentario del revisor. (Iteración 1) </b> <a class=\"tocSkip\"></a>\n",
    "    \n",
    "Bien hecho Juan! Corroboraste un dato importante, ahora podemos asegurar que el valor 100 para \"aisle_id\" es un valor a tener en cuenta e investigar junto a deparment_id y su valor 21."
   ]
  },
  {
   "cell_type": "markdown",
   "id": "nqhSTUPhhvEJ",
   "metadata": {
    "id": "nqhSTUPhhvEJ"
   },
   "source": [
    "Describe brevemente cuáles son tus hallazgos.\n",
    "\n",
    "Se vuelve a comprobar que department id 21 no tiene nombre de producto al igual que el pasillo con id 100"
   ]
  },
  {
   "cell_type": "code",
   "execution_count": 27,
   "id": "6b295120",
   "metadata": {
    "id": "6b295120"
   },
   "outputs": [
    {
     "name": "stdout",
     "output_type": "stream",
     "text": [
      "0\n"
     ]
    }
   ],
   "source": [
    "# Completa los nombres de productos ausentes con 'Unknown'\n",
    "\n",
    "df_products['product_name'] = df_products['product_name'].fillna('Unknown')\n",
    "\n",
    "print(df_products['product_name'].isna().sum())\n"
   ]
  },
  {
   "cell_type": "markdown",
   "id": "70b3ba63",
   "metadata": {},
   "source": [
    "<div class=\"alert alert-block alert-success\"><b>Comentario del revisor. (Iteración 1) </b> <a class=\"tocSkip\"></a>\n",
    "    \n",
    "Bien resuelto! En este caso es importante no eliminar estas filas ya que a pesar de tener un valor faltante, aún tenemos información de utilidad en otras columnas, por esta razón es acertado reemplazar dicho valor con \"Unknown\". Felicitaciones!"
   ]
  },
  {
   "cell_type": "markdown",
   "id": "fc70e5ad",
   "metadata": {
    "id": "fc70e5ad"
   },
   "source": [
    "Describe brevemente tus hallazgos y lo que hiciste con ellos.\n",
    "\n",
    "Primero con el metodo isna en df_products se encontro 1258 valores ausentes. Despues haciendo filtrado multiple se comprueba que los valores ausentes estan relacionados al departmen_id 21 y al pasillo id 100. Luego se revisa en las tablas departments y isles que esos id no tienen producto. Finalmente se completa los valores ausentes en la tabla products con el valor 'Unknown'"
   ]
  },
  {
   "cell_type": "markdown",
   "id": "7eb45c86",
   "metadata": {
    "id": "7eb45c86"
   },
   "source": [
    "### `orders` data frame"
   ]
  },
  {
   "cell_type": "code",
   "execution_count": 28,
   "id": "93e41d96",
   "metadata": {
    "id": "93e41d96"
   },
   "outputs": [
    {
     "name": "stdout",
     "output_type": "stream",
     "text": [
      "order_id                      0\n",
      "user_id                       0\n",
      "order_number                  0\n",
      "order_dow                     0\n",
      "order_hour_of_day             0\n",
      "days_since_prior_order    28817\n",
      "dtype: int64\n"
     ]
    }
   ],
   "source": [
    "# Encuentra los valores ausentes\n",
    "\n",
    "print(df_orders.isna().sum())"
   ]
  },
  {
   "cell_type": "code",
   "execution_count": 29,
   "id": "166e5a86",
   "metadata": {
    "id": "166e5a86"
   },
   "outputs": [
    {
     "name": "stdout",
     "output_type": "stream",
     "text": [
      "Empty DataFrame\n",
      "Columns: [order_id, user_id, order_number, order_dow, order_hour_of_day, days_since_prior_order]\n",
      "Index: []\n"
     ]
    }
   ],
   "source": [
    "# ¿Hay algún valor ausente que no sea el primer pedido del cliente?\n",
    "\n",
    "print( df_orders[(df_orders['days_since_prior_order'].isna()) & (~df_orders['order_number'] == 1)])\n",
    "\n"
   ]
  },
  {
   "cell_type": "markdown",
   "id": "fa943c9f",
   "metadata": {},
   "source": [
    "<div class=\"alert alert-block alert-success\"><b>Comentario del revisor. (Iteración 1) </b> <a class=\"tocSkip\"></a>\n",
    "    \n",
    "Excelente corroboración de nulos nuevamente, en este caso no tenemos valores nulos que no sea el primer pedido, excelente llegamos a la conclusión!"
   ]
  },
  {
   "cell_type": "markdown",
   "id": "4e23d089",
   "metadata": {
    "id": "4e23d089"
   },
   "source": [
    "Describe brevemente tus hallazgos y lo que hiciste con ellos.\n",
    "\n",
    "Primero se utilizo el metodo isna para ver los valores ausentes. Se econtraron valores ausentes en la columna days_since_prior_order. Luego se comprobo que no hay valores ausentes que no sean del primer pedido."
   ]
  },
  {
   "cell_type": "markdown",
   "id": "69dc9ca4",
   "metadata": {
    "id": "69dc9ca4"
   },
   "source": [
    "### `order_products` data frame"
   ]
  },
  {
   "cell_type": "code",
   "execution_count": 30,
   "id": "b8240253",
   "metadata": {
    "id": "b8240253"
   },
   "outputs": [
    {
     "name": "stdout",
     "output_type": "stream",
     "text": [
      "order_id               0\n",
      "product_id             0\n",
      "add_to_cart_order    836\n",
      "reordered              0\n",
      "dtype: int64\n"
     ]
    }
   ],
   "source": [
    "# Encuentra los valores ausentes\n",
    "\n",
    "print(df_order_products.isna().sum())"
   ]
  },
  {
   "cell_type": "code",
   "execution_count": 31,
   "id": "9a78e5ee",
   "metadata": {
    "id": "9a78e5ee"
   },
   "outputs": [
    {
     "name": "stdout",
     "output_type": "stream",
     "text": [
      "count    4544171\n",
      "mean           8\n",
      "std            7\n",
      "min            1\n",
      "25%            3\n",
      "50%            6\n",
      "75%           11\n",
      "max           64\n",
      "Name: add_to_cart_order, dtype: int64\n"
     ]
    }
   ],
   "source": [
    "# ¿Cuáles son los valores mínimos y máximos en esta columna?\n",
    "\n",
    "print( df_order_products['add_to_cart_order'].describe().astype('int'))\n",
    "\n",
    "\n",
    "#print(df_order_products.head())"
   ]
  },
  {
   "cell_type": "markdown",
   "id": "ec67e2c9",
   "metadata": {},
   "source": [
    "<div class=\"alert alert-block alert-success\"><b>Comentario del revisor. (Iteración 1) </b> <a class=\"tocSkip\"></a>\n",
    "    \n",
    "Tanto la corrobación de nulos como el cálculo de lo solicitado aplicando describe() es correcto Juan. Bien resuelto!"
   ]
  },
  {
   "cell_type": "markdown",
   "id": "-Z2Ja215jW78",
   "metadata": {
    "id": "-Z2Ja215jW78"
   },
   "source": [
    "Describe brevemente cuáles son tus hallazgos.\n",
    "\n",
    "Se logra encontrar 836 valores ausentes en la columna 'ass_to_cart_order'\n",
    "En la columna 'add_to_cart_order' el valor minimo es 1 y el valor maximo es 64"
   ]
  },
  {
   "cell_type": "code",
   "execution_count": 32,
   "id": "ab9d0c2b",
   "metadata": {
    "id": "ab9d0c2b"
   },
   "outputs": [
    {
     "name": "stdout",
     "output_type": "stream",
     "text": [
      "737        2449164\n",
      "9926       1968313\n",
      "14394      2926893\n",
      "16418      1717990\n",
      "30114      1959075\n",
      "            ...   \n",
      "4505662    1800005\n",
      "4511400    1633337\n",
      "4517562     404157\n",
      "4534112    1673227\n",
      "4535739    1832957\n",
      "Name: order_id, Length: 836, dtype: int64\n"
     ]
    }
   ],
   "source": [
    "# Guarda todas las IDs de pedidos que tengan un valor ausente en 'add_to_cart_order'\n",
    "\n",
    "add_to_cart_order_ids = df_order_products[df_order_products['add_to_cart_order'].isna()]['order_id']\n",
    "\n",
    "print(add_to_cart_order_ids)\n"
   ]
  },
  {
   "cell_type": "code",
   "execution_count": 33,
   "id": "54c31695",
   "metadata": {
    "id": "54c31695"
   },
   "outputs": [
    {
     "name": "stdout",
     "output_type": "stream",
     "text": [
      "65\n"
     ]
    }
   ],
   "source": [
    "# ¿Todos los pedidos con valores ausentes tienen más de 64 productos?\n",
    "# Agrupa todos los pedidos con datos ausentes por su ID de pedido.\n",
    "filtro = df_order_products[df_order_products['order_id'].isin(add_to_cart_order_ids)]\n",
    "# Cuenta el número de 'product_id' en cada pedido y revisa el valor mínimo del conteo.\n",
    "\n",
    "print(filtro.groupby('order_id')['product_id'].count().min())\n",
    "\n"
   ]
  },
  {
   "cell_type": "markdown",
   "id": "157ce7cd",
   "metadata": {},
   "source": [
    "<div class=\"alert alert-block alert-success\"><b>Comentario del revisor. (Iteración 1) </b> <a class=\"tocSkip\"></a>\n",
    "    \n",
    "Nuevamente excelente, desde el filtrado de los casos nulos hasta la agrupación por orden y el posterior conteo de los productos. Perfecto Juan!"
   ]
  },
  {
   "cell_type": "markdown",
   "id": "p9V6pddtjglj",
   "metadata": {
    "id": "p9V6pddtjglj"
   },
   "source": [
    "Describe brevemente cuáles son tus hallazgos.\n",
    "\n",
    "Se guardaron en una variable todos lo order_id que tenian valor ausente en add_cart_to_order.\n",
    "Luego se filtro con la variable creada usando el metodo isin.\n",
    "Despues, se agrupa las ordenes contando el numero de product_id en cada pedido para finalmente revisar el minimo de este conteo.Se encontro que hay mas de 64 productos con valor ausente en los pedidos."
   ]
  },
  {
   "cell_type": "code",
   "execution_count": 34,
   "id": "7a987d08",
   "metadata": {
    "id": "7a987d08"
   },
   "outputs": [
    {
     "name": "stdout",
     "output_type": "stream",
     "text": [
      "order_id             0\n",
      "product_id           0\n",
      "add_to_cart_order    0\n",
      "reordered            0\n",
      "dtype: int64\n",
      "<class 'pandas.core.frame.DataFrame'>\n",
      "RangeIndex: 4545007 entries, 0 to 4545006\n",
      "Data columns (total 4 columns):\n",
      " #   Column             Dtype\n",
      "---  ------             -----\n",
      " 0   order_id           int64\n",
      " 1   product_id         int64\n",
      " 2   add_to_cart_order  int64\n",
      " 3   reordered          int64\n",
      "dtypes: int64(4)\n",
      "memory usage: 138.7 MB\n",
      "None\n"
     ]
    }
   ],
   "source": [
    "# Remplaza los valores ausentes en la columna 'add_to_cart? con 999 y convierte la columna al tipo entero.\n",
    "\n",
    "df_order_products['add_to_cart_order'] =  df_order_products['add_to_cart_order'].fillna('999').astype('int')\n",
    "\n",
    "print(df_order_products.isna().sum())\n",
    "print(df_order_products.info())"
   ]
  },
  {
   "cell_type": "markdown",
   "id": "2624bbd1",
   "metadata": {},
   "source": [
    "<div class=\"alert alert-block alert-success\">\n",
    "<b>Comentario del revisor. (Iteración 1)</b> <a class=\"tocSkip\"></a>\n",
    "\n",
    "Buena resolución para completar estos valores! Sencilla y directa, felicitaciones!. A la vez una buena conclusión sobre el valor minimo de pedidos!"
   ]
  },
  {
   "cell_type": "markdown",
   "id": "fea4bcc7",
   "metadata": {
    "id": "fea4bcc7"
   },
   "source": [
    "Describe brevemente tus hallazgos y lo que hiciste con ellos.\n",
    "\n",
    "Se filtro la columna 'add_cart_to_order', para luego reemplazar con el metodo fillna el valor '999'. Finalmente se convirtio a string y luego se comprobo usando el metodo info()."
   ]
  },
  {
   "cell_type": "markdown",
   "id": "RnplPFY1gSrb",
   "metadata": {
    "id": "RnplPFY1gSrb"
   },
   "source": [
    "## Conclusiones\n",
    "\n",
    "Escribe aquí tus conclusiones intermedias sobre el Paso 2. Preprocesamiento de los datos\n",
    "\n",
    "El paso 2 en un paso muy importante para analizar los dataframes. Si no se hubiese hecho el preprocesamiento de datos . El analisis que se hara no hubiera sido objetivo."
   ]
  },
  {
   "cell_type": "markdown",
   "id": "UjrOIwTcz3ri",
   "metadata": {
    "id": "UjrOIwTcz3ri"
   },
   "source": [
    "# Paso 3. Análisis de los datos\n",
    "\n",
    "Una vez los datos estén procesados y listos, haz el siguiente análisis:"
   ]
  },
  {
   "cell_type": "markdown",
   "id": "turkish-kidney",
   "metadata": {
    "id": "turkish-kidney"
   },
   "source": [
    "# [A] Fácil (deben completarse todos para aprobar)\n",
    "\n",
    "1. Verifica que los valores en las columnas `'order_hour_of_day'` y `'order_dow'` en la tabla orders sean razonables (es decir, `'order_hour_of_day'` oscile entre 0 y 23 y `'order_dow'` oscile entre 0 y 6).\n",
    "2. Crea un gráfico que muestre el número de personas que hacen pedidos dependiendo de la hora del día.\n",
    "3. Crea un gráfico que muestre qué día de la semana la gente hace sus compras.\n",
    "4. Crea un gráfico que muestre el tiempo que la gente espera hasta hacer su siguiente pedido, y comenta sobre los valores mínimos y máximos."
   ]
  },
  {
   "cell_type": "markdown",
   "id": "short-capability",
   "metadata": {
    "id": "short-capability"
   },
   "source": [
    "### [A1] Verifica que los valores sean sensibles"
   ]
  },
  {
   "cell_type": "code",
   "execution_count": 35,
   "id": "growing-fruit",
   "metadata": {
    "id": "growing-fruit"
   },
   "outputs": [
    {
     "name": "stdout",
     "output_type": "stream",
     "text": [
      "Los valores de 'order_hour_of_day' son razonables. \n"
     ]
    }
   ],
   "source": [
    "if df_orders['order_hour_of_day'].between(0,23).all():\n",
    "    print(\"Los valores de 'order_hour_of_day' son razonables. \")\n",
    "else:\n",
    "    print(\"Los valores de 'order_hour_of_day' no son razonables. \")"
   ]
  },
  {
   "cell_type": "code",
   "execution_count": 36,
   "id": "accessory-malaysia",
   "metadata": {
    "id": "accessory-malaysia"
   },
   "outputs": [
    {
     "name": "stdout",
     "output_type": "stream",
     "text": [
      "Los valores de 'order_dow' son razonables. \n"
     ]
    }
   ],
   "source": [
    "if df_orders['order_dow'].between(0,6).all():\n",
    "    print(\"Los valores de 'order_dow' son razonables. \")\n",
    "else:\n",
    "    print(\"Los valores de 'order_dow' no son razonables. \")"
   ]
  },
  {
   "cell_type": "markdown",
   "id": "f33df7ce",
   "metadata": {},
   "source": [
    " <div class=\"alert alert-block alert-success\">\n",
    "<b>Comentario del revisor. (Iteración 1)</b> <a class=\"tocSkip\"></a>\n",
    "\n",
    "Una forma creativa de corroborar lo pedido, eso demuestra comprensión e inteligencia. Muy bien Juan! Sigamos que falta poco!"
   ]
  },
  {
   "cell_type": "markdown",
   "id": "hmR2GNQ6lCsX",
   "metadata": {
    "id": "hmR2GNQ6lCsX"
   },
   "source": [
    "Escribe aquí tus conclusiones\n",
    "\n",
    "Se demostro que los valores si son razonables. con if,else."
   ]
  },
  {
   "cell_type": "markdown",
   "id": "a6743a70",
   "metadata": {
    "id": "a6743a70"
   },
   "source": [
    "### [A2] Para cada hora del día, ¿cuántas personas hacen órdenes?"
   ]
  },
  {
   "cell_type": "code",
   "execution_count": 37,
   "id": "a36cca27",
   "metadata": {
    "id": "a36cca27"
   },
   "outputs": [
    {
     "data": {
      "text/plain": [
       "<AxesSubplot:xlabel='order_hour_of_day'>"
      ]
     },
     "execution_count": 37,
     "metadata": {},
     "output_type": "execute_result"
    },
    {
     "data": {
      "image/png": "[encoded data removed]",
      "text/plain": [
       "<Figure size 432x288 with 1 Axes>"
      ]
     },
     "metadata": {
      "needs_background": "light"
     },
     "output_type": "display_data"
    }
   ],
   "source": [
    "df_orders.groupby('order_hour_of_day')['user_id'].count().plot(kind=\"bar\")"
   ]
  },
  {
   "cell_type": "markdown",
   "id": "11270eed",
   "metadata": {
    "id": "11270eed"
   },
   "source": [
    "Escribe aquí tus conclusiones\n",
    "\n",
    "Se concluye que el horario donde las personas hacen mas ordenes es entre las 8 am y 5pm. A partir de las 8 comienzan a incrementar y a partir de las 5 comienzan a bajar las ordenes de los cientes."
   ]
  },
  {
   "cell_type": "markdown",
   "id": "3122ad60",
   "metadata": {},
   "source": [
    "<div class=\"alert alert-block alert-success\">\n",
    "<b>Comentario del revisor. (Iteración 1)</b> <a class=\"tocSkip\"></a>\n",
    "\n",
    "Excelente cálculo de frecuencia y excelente implementación e interpreteaicón de la gráfica! Bien hecho!"
   ]
  },
  {
   "cell_type": "markdown",
   "id": "documented-command",
   "metadata": {
    "id": "documented-command"
   },
   "source": [
    "### [A3] ¿Qué día de la semana compran víveres las personas?"
   ]
  },
  {
   "cell_type": "code",
   "execution_count": 38,
   "id": "chief-digit",
   "metadata": {
    "id": "chief-digit"
   },
   "outputs": [
    {
     "data": {
      "text/plain": [
       "<AxesSubplot:xlabel='order_dow'>"
      ]
     },
     "execution_count": 38,
     "metadata": {},
     "output_type": "execute_result"
    },
    {
     "data": {
      "image/png": "[encoded data removed]",
      "text/plain": [
       "<Figure size 432x288 with 1 Axes>"
      ]
     },
     "metadata": {
      "needs_background": "light"
     },
     "output_type": "display_data"
    }
   ],
   "source": [
    "df_orders.groupby('order_dow')['user_id'].count().plot(kind=\"bar\")"
   ]
  },
  {
   "cell_type": "markdown",
   "id": "3a5326ba",
   "metadata": {},
   "source": [
    "<div class=\"alert alert-block alert-success\">\n",
    "<b>Comentario del revisor. (Iteración 1)</b> <a class=\"tocSkip\"></a>\n",
    "\n",
    "Perfecto! Mismo caso que lo anterior, bien resuelto y bien calculada la frecuencia!"
   ]
  },
  {
   "cell_type": "markdown",
   "id": "dominant-lightning",
   "metadata": {
    "id": "dominant-lightning"
   },
   "source": [
    "Escribe aquí tus conclusiones\n",
    "\n",
    "Segun la tabla el dia domingo y lunes, las personas hacen mas compras que los demas dias."
   ]
  },
  {
   "cell_type": "markdown",
   "id": "cutting-concert",
   "metadata": {
    "id": "cutting-concert"
   },
   "source": [
    "### [A4] ¿Cuánto tiempo esperan las personas hasta hacer otro pedido? Comenta sobre los valores mínimos y máximos."
   ]
  },
  {
   "cell_type": "code",
   "execution_count": 39,
   "id": "c231f523",
   "metadata": {
    "id": "c231f523"
   },
   "outputs": [
    {
     "data": {
      "text/plain": [
       "<AxesSubplot:xlabel='days_since_prior_order'>"
      ]
     },
     "execution_count": 39,
     "metadata": {},
     "output_type": "execute_result"
    },
    {
     "data": {
      "image/png": "[encoded data removed]",
      "text/plain": [
       "<Figure size 432x288 with 1 Axes>"
      ]
     },
     "metadata": {
      "needs_background": "light"
     },
     "output_type": "display_data"
    }
   ],
   "source": [
    "df_orders.groupby('days_since_prior_order')['user_id'].count().plot(kind=\"bar\")"
   ]
  },
  {
   "cell_type": "markdown",
   "id": "b31ad66a",
   "metadata": {},
   "source": [
    "<div class=\"alert alert-block alert-success\">\n",
    "<b>Comentario del revisor. (Iteración 1)</b> <a class=\"tocSkip\"></a>\n",
    "\n",
    "Impresionante Juan, nuevamente lo has resuelta tal como correspondía!"
   ]
  },
  {
   "cell_type": "markdown",
   "id": "discrete-vertex",
   "metadata": {
    "id": "discrete-vertex"
   },
   "source": [
    "Escribe aquí tus conclusiones\n",
    "\n",
    "El valor minimo es 0 y el valor maximo que tiene que esperar el usuario es 30 dias para hacer otro pedido"
   ]
  },
  {
   "cell_type": "markdown",
   "id": "tight-staff",
   "metadata": {
    "id": "tight-staff"
   },
   "source": [
    "# [B] Intermedio (deben completarse todos para aprobar)\n",
    "\n",
    "1. ¿Existe alguna diferencia entre las distribuciones `'order_hour_of_day'` de los miércoles y los sábados? Traza gráficos de barra de `'order_hour_of_day'` para ambos días en la misma figura y describe las diferencias que observes.\n",
    "2. Grafica la distribución para el número de órdenes que hacen los clientes (es decir, cuántos clientes hicieron solo 1 pedido, cuántos hicieron 2, cuántos 3, y así sucesivamente...).\n",
    "3. ¿Cuáles son los 20 principales productos que se piden con más frecuencia (muestra su identificación y nombre)?"
   ]
  },
  {
   "cell_type": "markdown",
   "id": "packed-classic",
   "metadata": {
    "id": "packed-classic"
   },
   "source": [
    "### [B1] Diferencia entre miércoles y sábados para  `'order_hour_of_day'`. Traza gráficos de barra para los dos días y describe las diferencias que veas."
   ]
  },
  {
   "cell_type": "code",
   "execution_count": 40,
   "id": "d89b8403",
   "metadata": {
    "id": "d89b8403"
   },
   "outputs": [],
   "source": [
    "wednesday_hour = df_orders[(df_orders['order_dow'] == 3)] ['order_hour_of_day'].value_counts()\n",
    "\n",
    "saturday_hour = df_orders[(df_orders['order_dow'] == 6)] ['order_hour_of_day'].value_counts()\n"
   ]
  },
  {
   "cell_type": "code",
   "execution_count": 41,
   "id": "94e54e8a",
   "metadata": {
    "id": "94e54e8a"
   },
   "outputs": [],
   "source": [
    "df_concat = pd.concat([wednesday_hour , saturday_hour], axis='columns')"
   ]
  },
  {
   "cell_type": "code",
   "execution_count": 42,
   "id": "797c90a8",
   "metadata": {
    "id": "797c90a8"
   },
   "outputs": [],
   "source": [
    "df_concat.columns = ['wednesday', 'saturday']"
   ]
  },
  {
   "cell_type": "code",
   "execution_count": 43,
   "id": "35bcea30",
   "metadata": {
    "id": "35bcea30"
   },
   "outputs": [
    {
     "data": {
      "text/plain": [
       "<AxesSubplot:title={'center':'Comparison of order for Wednesday and Saturday'}>"
      ]
     },
     "execution_count": 43,
     "metadata": {},
     "output_type": "execute_result"
    },
    {
     "data": {
      "image/png": "[encoded data removed]",
      "text/plain": [
       "<Figure size 432x288 with 1 Axes>"
      ]
     },
     "metadata": {
      "needs_background": "light"
     },
     "output_type": "display_data"
    }
   ],
   "source": [
    "df_concat.plot(kind=\"bar\", title='Comparison of order for Wednesday and Saturday')"
   ]
  },
  {
   "cell_type": "markdown",
   "id": "817408c6",
   "metadata": {},
   "source": [
    "<div class=\"alert alert-block alert-success\">\n",
    "<b>Comentario del revisor. (Iteración 1)</b> <a class=\"tocSkip\"></a>\n",
    "\n",
    "Excelente Juan! Aquí hemos visualizado tal como se debía ámbas columnas cmoparandose en el mismo gráfico, bien implementado!"
   ]
  },
  {
   "cell_type": "markdown",
   "id": "charitable-congo",
   "metadata": {
    "id": "charitable-congo"
   },
   "source": [
    "Escribe aquí tus conclusiones\n",
    "\n",
    "Se filtran primero ambos dias para luego concatenar las columnas y hacer el plot para mostrar el grafico de barras con las horas del dia"
   ]
  },
  {
   "cell_type": "markdown",
   "id": "e3891143",
   "metadata": {
    "id": "e3891143"
   },
   "source": [
    "### [B2] ¿Cuál es la distribución para el número de pedidos por cliente?"
   ]
  },
  {
   "cell_type": "code",
   "execution_count": 44,
   "id": "d8c26c23",
   "metadata": {
    "id": "d8c26c23"
   },
   "outputs": [],
   "source": [
    "#Grafica la distribución para el número de órdenes que hacen los clientes \n",
    "#(es decir, cuántos clientes hicieron solo 1 pedido, cuántos hicieron 2, cuántos 3, y así sucesivamente...)."
   ]
  },
  {
   "cell_type": "code",
   "execution_count": 45,
   "id": "00e69a66",
   "metadata": {
    "id": "00e69a66"
   },
   "outputs": [
    {
     "data": {
      "text/plain": [
       "<AxesSubplot:ylabel='Frequency'>"
      ]
     },
     "execution_count": 45,
     "metadata": {},
     "output_type": "execute_result"
    },
    {
     "data": {
      "image/png": "[encoded data removed]",
      "text/plain": [
       "<Figure size 432x288 with 1 Axes>"
      ]
     },
     "metadata": {
      "needs_background": "light"
     },
     "output_type": "display_data"
    }
   ],
   "source": [
    "df_orders.groupby('user_id')['order_number'].count().plot(kind='hist')"
   ]
  },
  {
   "cell_type": "markdown",
   "id": "80d33e7d",
   "metadata": {},
   "source": [
    "<div class=\"alert alert-block alert-success\">\n",
    "<b>Comentario del revisor. (Iteración 1)</b> <a class=\"tocSkip\"></a>\n",
    "\n",
    "Excelente Juan, este gráfico responde a lo que buscabamos. Excelente elección de tipo de gráfico! Si quisieramos verlo en más detalle podríamos aumentar la cantidad de bins!"
   ]
  },
  {
   "cell_type": "markdown",
   "id": "d2eff7d5",
   "metadata": {
    "id": "d2eff7d5"
   },
   "source": [
    "Escribe aquí tus conclusiones\n",
    "\n",
    "Se puede concluir con el histograma que mas de 100000 hacen menos de 5 pedidos"
   ]
  },
  {
   "cell_type": "markdown",
   "id": "54a0319c",
   "metadata": {
    "id": "54a0319c"
   },
   "source": [
    "### [B3] ¿Cuáles son los 20 productos más populares (muestra su ID y nombre)?"
   ]
  },
  {
   "cell_type": "code",
   "execution_count": 46,
   "id": "exterior-arizona",
   "metadata": {
    "id": "exterior-arizona",
    "scrolled": true
   },
   "outputs": [],
   "source": [
    "#¿Cuáles son los 20 principales productos que se piden con más frecuencia (muestra su identificación y nombre)?"
   ]
  },
  {
   "cell_type": "code",
   "execution_count": 47,
   "id": "bbcdd20b",
   "metadata": {
    "id": "bbcdd20b"
   },
   "outputs": [
    {
     "data": {
      "text/plain": [
       "product_id  product_name            \n",
       "24852       banana                      66050\n",
       "13176       bag of organic bananas      53297\n",
       "21137       organic strawberries        37039\n",
       "21903       organic baby spinach        33971\n",
       "47209       organic hass avocado        29773\n",
       "47766       organic avocado             24689\n",
       "47626       large lemon                 21495\n",
       "16797       strawberries                20018\n",
       "26209       limes                       19690\n",
       "27845       organic whole milk          19600\n",
       "27966       organic raspberries         19197\n",
       "22935       organic yellow onion        15898\n",
       "24964       organic garlic              15292\n",
       "45007       organic zucchini            14584\n",
       "39275       organic blueberries         13879\n",
       "49683       cucumber kirby              13675\n",
       "28204       organic fuji apple          12544\n",
       "5876        organic lemon               12232\n",
       "8277        apple honeycrisp organic    11993\n",
       "40706       organic grape tomatoes      11781\n",
       "Name: order_id, dtype: int64"
      ]
     },
     "metadata": {},
     "output_type": "display_data"
    }
   ],
   "source": [
    "df_merged = df_order_products.merge(df_products, on='product_id', how=\"inner\")\n",
    "\n",
    "df_20_ids = df_merged.groupby( ['product_id', 'product_name'])['order_id'].count().sort_values(ascending=False)\n",
    "\n",
    "display(df_20_ids.head(20))"
   ]
  },
  {
   "cell_type": "markdown",
   "id": "2869a628",
   "metadata": {},
   "source": [
    "<div class=\"alert alert-block alert-success\">\n",
    "<b>Comentario del revisor. (Iteración 1)</b> <a class=\"tocSkip\"></a>\n",
    "\n",
    "Increíble Juan! Tal como se debía mergemos previamente los dataframes para luego poder calcular la frecuencia buscada y obtener los nombres correspondientes, excelente!\n",
    "   "
   ]
  },
  {
   "cell_type": "markdown",
   "id": "7df00f47",
   "metadata": {
    "id": "7df00f47"
   },
   "source": [
    "Escribe aquí tus conclusiones\n",
    "\n",
    "Primero, se creo la variable df_merged para combinar df_order_products y df_products por id_product\n",
    "\n",
    "despues se agrupan para hacer el conteo y ordenar de mayor a menor."
   ]
  },
  {
   "cell_type": "markdown",
   "id": "gross-theme",
   "metadata": {
    "id": "gross-theme"
   },
   "source": [
    "# [C] Difícil (deben completarse todos para aprobar)\n",
    "\n",
    "1. ¿Cuántos artículos suelen comprar las personas en un pedido? ¿Cómo es la distribución?\n",
    "2. ¿Cuáles son los 20 principales artículos que vuelven a pedirse con mayor frecuencia (muestra sus nombres e IDs de los productos)?\n",
    "3. Para cada producto, ¿cuál es la tasa de repetición del pedido (número de repeticiones de pedido/total de pedidos?\n",
    "4. Para cada cliente, ¿qué proporción de los productos que pidió ya los había pedido? Calcula la tasa de repetición de pedido para cada usuario en lugar de para cada producto.\n",
    "5. ¿Cuáles son los 20 principales artículos que la gente pone primero en sus carritos (muestra las IDs de los productos, sus nombres, y el número de veces en que fueron el primer artículo en añadirse al carrito)?"
   ]
  },
  {
   "cell_type": "markdown",
   "id": "romantic-deposit",
   "metadata": {
    "id": "romantic-deposit"
   },
   "source": [
    "### [C1] ¿Cuántos artículos compran normalmente las personas en un pedido? ¿Cómo es la distribución?"
   ]
  },
  {
   "cell_type": "code",
   "execution_count": 56,
   "id": "virtual-punch",
   "metadata": {
    "id": "virtual-punch"
   },
   "outputs": [
    {
     "data": {
      "text/plain": [
       "<AxesSubplot:>"
      ]
     },
     "execution_count": 56,
     "metadata": {},
     "output_type": "execute_result"
    },
    {
     "data": {
      "image/png": "[encoded data removed]",
      "text/plain": [
       "<Figure size 432x288 with 1 Axes>"
      ]
     },
     "metadata": {
      "needs_background": "light"
     },
     "output_type": "display_data"
    }
   ],
   "source": [
    "df_order_products.groupby('order_id')['product_id'].count().value_counts().plot(kind=\"bar\")\n"
   ]
  },
  {
   "cell_type": "markdown",
   "id": "32ebeffe",
   "metadata": {},
   "source": [
    "<div class=\"alert alert-block alert-warning\">\n",
    "<b>Comentario del revisor. (Iteración 1)</b> <a class=\"tocSkip\"></a>\n",
    "\n",
    "Aquí lo hemos hecho muy bien Juan! Aunque estamos olvidando un paso más, nosotros estamos calculando por orden la cantidad de articulos que se pidio en el pedidio, hasta aquí muy bien pero a lo que nosotros nos interesa es cuantas veces se ordenar 12 productos, cuantas 3, etc. Es decir a lo calculado deberíamos aplicarle un **value_counts()** y sobre este calculo mostrarlo con un gráfico de barras."
   ]
  },
  {
   "cell_type": "markdown",
   "id": "430d76fe",
   "metadata": {},
   "source": [
    "<div class=\"alert alert-block alert-success\"><b>Comentario del revisor. (Iteración 2) </b> <a class=\"tocSkip\"></a>\n",
    "    \n",
    "Nuevamente muy bien implementado, tal como se debía!"
   ]
  },
  {
   "cell_type": "markdown",
   "id": "designed-mortality",
   "metadata": {
    "id": "designed-mortality"
   },
   "source": [
    "Escribe aquí tus conclusiones\n",
    "\n",
    "Las personas mayormente compran hasta 20 articulos en su pedido. (Se agrego segun el comentario el value_counts() y se mostro en grafico de barras "
   ]
  },
  {
   "cell_type": "markdown",
   "id": "5e6b5537",
   "metadata": {
    "id": "5e6b5537"
   },
   "source": [
    "### [C2] ¿Cuáles son los 20 principales artículos que vuelven a pedirse con mayor frecuencia (muestra sus nombres e IDs de los productos)?"
   ]
  },
  {
   "cell_type": "code",
   "execution_count": 49,
   "id": "9374e55a",
   "metadata": {
    "id": "9374e55a"
   },
   "outputs": [
    {
     "name": "stdout",
     "output_type": "stream",
     "text": [
      "product_id  product_name            \n",
      "24852       banana                      55763\n",
      "13176       bag of organic bananas      44450\n",
      "21137       organic strawberries        28639\n",
      "21903       organic baby spinach        26233\n",
      "47209       organic hass avocado        23629\n",
      "47766       organic avocado             18743\n",
      "27845       organic whole milk          16251\n",
      "47626       large lemon                 15044\n",
      "27966       organic raspberries         14748\n",
      "16797       strawberries                13945\n",
      "26209       limes                       13327\n",
      "22935       organic yellow onion        11145\n",
      "24964       organic garlic              10411\n",
      "45007       organic zucchini            10076\n",
      "49683       cucumber kirby               9538\n",
      "28204       organic fuji apple           8989\n",
      "8277        apple honeycrisp organic     8836\n",
      "39275       organic blueberries          8799\n",
      "5876        organic lemon                8412\n",
      "49235       organic half & half          8389\n",
      "Name: order_id, dtype: int64\n"
     ]
    }
   ],
   "source": [
    "df_popular = df_merged[df_merged['reordered'] == 1]\n",
    "\n",
    "df_popular_20 = df_popular.groupby( ['product_id', 'product_name'])['order_id'].count().sort_values(ascending=False)\n",
    "\n",
    "print(df_popular_20.head(20))"
   ]
  },
  {
   "cell_type": "markdown",
   "id": "04956fcf",
   "metadata": {},
   "source": [
    "<div class=\"alert alert-block alert-success\">\n",
    "<b>Comentario del revisor. (Iteración 1)</b> <a class=\"tocSkip\"></a>\n",
    "\n",
    "Aquí si lo hemos calculado perfectamente! Bien hecho!"
   ]
  },
  {
   "cell_type": "markdown",
   "id": "80e70c74",
   "metadata": {
    "id": "80e70c74"
   },
   "source": [
    "Escribe aquí tus conclusiones\n",
    "\n",
    "Primero se filtro la columna reordered igualando a 1 . para luego agruparlos por id y nombre. Finalmente se ordenan de mayor a menor para ver cuales son los 20 primeros."
   ]
  },
  {
   "cell_type": "markdown",
   "id": "9d312b14",
   "metadata": {
    "id": "9d312b14"
   },
   "source": [
    "### [C3] Para cada producto, ¿cuál es la proporción de las veces que se pide y que se vuelve a pedir?"
   ]
  },
  {
   "cell_type": "code",
   "execution_count": 50,
   "id": "8ae9f4b1",
   "metadata": {
    "id": "8ae9f4b1"
   },
   "outputs": [
    {
     "data": {
      "text/plain": [
       "product_id  product_name                                                     \n",
       "1           chocolate sandwich cookies                                           0.564286\n",
       "2           all-seasons salt                                                     0.000000\n",
       "3           robust golden unsweetened oolong tea                                 0.738095\n",
       "4           smart ones classic favorites mini rigatoni with vodka cream sauce    0.510204\n",
       "7           pure coconut water with orange                                       0.500000\n",
       "                                                                                   ...   \n",
       "49690       high performance energy drink                                        0.800000\n",
       "49691       original pancake & waffle mix                                        0.430556\n",
       "49692       organic instant oatmeal light maple brown sugar                      0.416667\n",
       "49693       spring water body wash                                               0.440000\n",
       "49694       burrito- steak & cheese                                              0.333333\n",
       "Name: reordered, Length: 45573, dtype: float64"
      ]
     },
     "execution_count": 50,
     "metadata": {},
     "output_type": "execute_result"
    }
   ],
   "source": [
    "df_merged.groupby(['product_id','product_name']) ['reordered'].mean()"
   ]
  },
  {
   "cell_type": "markdown",
   "id": "0154f72a",
   "metadata": {},
   "source": [
    "<div class=\"alert alert-block alert-success\">\n",
    "<b>Comentario del revisor. (Iteración 1)</b> <a class=\"tocSkip\"></a>\n",
    "\n",
    "Impresionante! El cálculo más optimo que no muchos estudiantes aplican, bien hecho Juan!"
   ]
  },
  {
   "cell_type": "markdown",
   "id": "I10dEIAyldcO",
   "metadata": {
    "id": "I10dEIAyldcO"
   },
   "source": [
    "Escribe aquí tus conclusiones\n",
    "\n",
    "De la tabla anterior que se hizo merge, se agrupa por product_id y product_name. para luego aplicar metodo mean a la columna reordered."
   ]
  },
  {
   "cell_type": "markdown",
   "id": "subject-boxing",
   "metadata": {
    "id": "subject-boxing"
   },
   "source": [
    "### [C4] Para cada cliente, ¿qué proporción de sus productos ya los había pedido?"
   ]
  },
  {
   "cell_type": "code",
   "execution_count": 51,
   "id": "medical-couple",
   "metadata": {
    "id": "medical-couple",
    "scrolled": false
   },
   "outputs": [
    {
     "name": "stdout",
     "output_type": "stream",
     "text": [
      "user_id\n",
      "2         0.038462\n",
      "4         0.000000\n",
      "5         0.666667\n",
      "6         0.000000\n",
      "7         0.928571\n",
      "            ...   \n",
      "206203    0.222222\n",
      "206206    0.714286\n",
      "206207    0.891304\n",
      "206208    0.696000\n",
      "206209    0.320000\n",
      "Name: reordered, Length: 149626, dtype: float64\n"
     ]
    }
   ],
   "source": [
    "df_merged_user = df_orders.merge(df_order_products)\n",
    "\n",
    "df_merged_user = df_merged_user.groupby('user_id')['reordered'].mean()\n",
    "\n",
    "print(df_merged_user)"
   ]
  },
  {
   "cell_type": "markdown",
   "id": "f1bc57c4",
   "metadata": {},
   "source": [
    "<div class=\"alert alert-block alert-success\">\n",
    "<b>Comentario del revisor. (Iteración 1)</b> <a class=\"tocSkip\"></a>\n",
    "\n",
    "Excelente, al igual que el caso anterior pero esta vez sobre los usuarios, bien hecho!"
   ]
  },
  {
   "cell_type": "markdown",
   "id": "BgJSvXDsleXz",
   "metadata": {
    "id": "BgJSvXDsleXz"
   },
   "source": [
    "Escribe aquí tus conclusiones\n",
    "\n",
    "Primero se hace merge de la tabla orders y order_products.\n",
    "Luego se agrupa por user_id y reordered, para finalmente aplciar mean."
   ]
  },
  {
   "cell_type": "markdown",
   "id": "92d35137",
   "metadata": {
    "id": "92d35137"
   },
   "source": [
    "### [C5] ¿Cuáles son los 20 principales artículos que las personas ponen primero en sus carritos?"
   ]
  },
  {
   "cell_type": "code",
   "execution_count": 52,
   "id": "0ae57274",
   "metadata": {
    "id": "0ae57274",
    "scrolled": false
   },
   "outputs": [
    {
     "name": "stdout",
     "output_type": "stream",
     "text": [
      "product_id  product_name               \n",
      "24852       banana                         15562\n",
      "13176       bag of organic bananas         11026\n",
      "27845       organic whole milk              4363\n",
      "21137       organic strawberries            3946\n",
      "47209       organic hass avocado            3390\n",
      "21903       organic baby spinach            3336\n",
      "47766       organic avocado                 3044\n",
      "19660       spring water                    2336\n",
      "16797       strawberries                    2308\n",
      "27966       organic raspberries             2024\n",
      "44632       sparkling water grapefruit      1914\n",
      "49235       organic half & half             1797\n",
      "47626       large lemon                     1737\n",
      "196         soda                            1733\n",
      "38689       organic reduced fat milk        1397\n",
      "26209       limes                           1370\n",
      "12341       hass avocados                   1340\n",
      "5785        organic reduced fat 2% milk     1310\n",
      "27086       half & half                     1309\n",
      "43352       raspberries                     1246\n",
      "Name: product_id, dtype: int64\n"
     ]
    }
   ],
   "source": [
    "\n",
    "df_first_in_cart = df_merged[df_merged['add_to_cart_order'] == 1]\n",
    "\n",
    "df_first_in_cart_group = df_first_in_cart.groupby( ['product_id', 'product_name'])['product_id'].count().sort_values(ascending=False)\n",
    "\n",
    "print(df_first_in_cart_group.head(20))"
   ]
  },
  {
   "cell_type": "markdown",
   "id": "28ce9872",
   "metadata": {
    "id": "28ce9872"
   },
   "source": [
    "Escribe aquí tus conclusiones\n",
    "\n",
    "Primero se utiliza la df que se hizo merge anteriormente, luego se filtra la columna 'add_to_cart_order' = 1 ya que son los primero productos en agregar. Despues se agrupan por product_id y product_name. Finalmente se cuentan y se ordenan de mayor a menor. Se termina mostrando con head(20)"
   ]
  },
  {
   "cell_type": "markdown",
   "id": "64f44d57",
   "metadata": {},
   "source": [
    "<div class=\"alert alert-block alert-success\">\n",
    "<b>Comentario del revisor. (Iteración 1)</b> <a class=\"tocSkip\"></a>\n",
    "\n",
    "Nuevamente el cálculo de la frecuencia es correcto!"
   ]
  },
  {
   "cell_type": "markdown",
   "id": "uITbFCEoDosC",
   "metadata": {
    "id": "uITbFCEoDosC"
   },
   "source": [
    "### Conclusion general del proyecto:"
   ]
  },
  {
   "cell_type": "code",
   "execution_count": 53,
   "id": "Nk-4GS7mDwqY",
   "metadata": {
    "id": "Nk-4GS7mDwqY"
   },
   "outputs": [
    {
     "name": "stdout",
     "output_type": "stream",
     "text": [
      "Ha sido un proyecto muy largo y a la vez muy interesante analizar todas las tablas. Me ha costado mucho entender las preguntas (ser mas claros) , seria bueno mejorar en eso para los proximos proyectos.\n"
     ]
    }
   ],
   "source": [
    "print(\"Ha sido un proyecto muy largo y a la vez muy interesante analizar todas las tablas. Me ha costado mucho entender las preguntas (ser mas claros) , seria bueno mejorar en eso para los proximos proyectos.\") "
   ]
  },
  {
   "cell_type": "markdown",
   "id": "3def27cc",
   "metadata": {},
   "source": [
    "<div class=\"alert alert-block alert-success\">\n",
    "<b>Comentario del revisor. (Iteración 1)</b> <a class=\"tocSkip\"></a>\n",
    "\n",
    "En primer lugar entiendo tu punto Juan y levantaré la critica constructiva a quiens corresponda! Por otro lado aquí más allá de nuestras percepciones del trabajo deberíamos poder profundizar sobre los resultados que obtuvimos. Lo has hecho muy bien juan!"
   ]
  },
  {
   "cell_type": "code",
   "execution_count": null,
   "id": "c2769893",
   "metadata": {},
   "outputs": [],
   "source": []
  }
 ],
 "metadata": {
  "colab": {
   "provenance": []
  },
  "kernelspec": {
   "display_name": "Python 3 (ipykernel)",
   "language": "python",
   "name": "python3"
  },
  "language_info": {
   "codemirror_mode": {
    "name": "ipython",
    "version": 3
   },
   "file_extension": ".py",
   "mimetype": "text/x-python",
   "name": "python",
   "nbconvert_exporter": "python",
   "pygments_lexer": "ipython3",
   "version": "3.9.19"
  },
  "toc": {
   "base_numbering": 1,
   "nav_menu": {},
   "number_sections": true,
   "sideBar": true,
   "skip_h1_title": true,
   "title_cell": "Table of Contents",
   "title_sidebar": "Contents",
   "toc_cell": false,
   "toc_position": {},
   "toc_section_display": true,
   "toc_window_display": false
  },
  "vscode": {
   "interpreter": {
    "hash": "01a7be9ec63e704a62cefc5fe7a4756944464ee731be31632bdf42a4cb4688cf"
   }
  }
 },
 "nbformat": 4,
 "nbformat_minor": 5
}
